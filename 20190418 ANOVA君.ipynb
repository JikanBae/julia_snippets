{
 "cells": [
  {
   "cell_type": "code",
   "execution_count": 1,
   "metadata": {
    "inputHidden": false,
    "outputHidden": false
   },
   "outputs": [],
   "source": [
    "using DataFrames\n",
    "using CSV\n",
    "using RCall"
   ]
  },
  {
   "cell_type": "code",
   "execution_count": 2,
   "metadata": {
    "inputHidden": false,
    "outputHidden": false
   },
   "outputs": [],
   "source": [
    "# http://riseki.php.xdomain.jp/index.php?ANOVA君%2Fより高度な入力方式\n",
    "R\"source(\\\"anovakun_484.txt\\\", encoding=\\\"utf8\\\")\";"
   ]
  },
  {
   "cell_type": "code",
   "execution_count": 3,
   "metadata": {
    "inputHidden": false,
    "outputHidden": false
   },
   "outputs": [
    {
     "data": {
      "text/html": [
       "<table class=\"data-frame\"><thead><tr><th></th><th>id</th><th>Person</th><th>Brand</th><th>Temperature</th><th>Taste</th></tr><tr><th></th><th>Int64</th><th>String</th><th>String</th><th>String</th><th>Int64</th></tr></thead><tbody><p>30 rows × 5 columns</p><tr><th>1</th><td>1</td><td>Akutsu</td><td>McDonalds</td><td>Hot</td><td>6</td></tr><tr><th>2</th><td>2</td><td>Beppu</td><td>McDonalds</td><td>Hot</td><td>4</td></tr><tr><th>3</th><td>3</td><td>Chiyoda</td><td>McDonalds</td><td>Hot</td><td>5</td></tr><tr><th>4</th><td>4</td><td>Degawa</td><td>McDonalds</td><td>Hot</td><td>3</td></tr><tr><th>5</th><td>5</td><td>Emura</td><td>McDonalds</td><td>Hot</td><td>2</td></tr><tr><th>6</th><td>6</td><td>Akutsu</td><td>Lotteria</td><td>Hot</td><td>10</td></tr><tr><th>7</th><td>7</td><td>Beppu</td><td>Lotteria</td><td>Hot</td><td>8</td></tr><tr><th>8</th><td>8</td><td>Chiyoda</td><td>Lotteria</td><td>Hot</td><td>10</td></tr><tr><th>9</th><td>9</td><td>Degawa</td><td>Lotteria</td><td>Hot</td><td>8</td></tr><tr><th>10</th><td>10</td><td>Emura</td><td>Lotteria</td><td>Hot</td><td>9</td></tr><tr><th>11</th><td>11</td><td>Akutsu</td><td>Mos</td><td>Hot</td><td>11</td></tr><tr><th>12</th><td>12</td><td>Beppu</td><td>Mos</td><td>Hot</td><td>12</td></tr><tr><th>13</th><td>13</td><td>Chiyoda</td><td>Mos</td><td>Hot</td><td>12</td></tr><tr><th>14</th><td>14</td><td>Degawa</td><td>Mos</td><td>Hot</td><td>10</td></tr><tr><th>15</th><td>15</td><td>Emura</td><td>Mos</td><td>Hot</td><td>10</td></tr><tr><th>16</th><td>16</td><td>Akutsu</td><td>McDonalds</td><td>Cold</td><td>5</td></tr><tr><th>17</th><td>17</td><td>Beppu</td><td>McDonalds</td><td>Cold</td><td>4</td></tr><tr><th>18</th><td>18</td><td>Chiyoda</td><td>McDonalds</td><td>Cold</td><td>2</td></tr><tr><th>19</th><td>19</td><td>Degawa</td><td>McDonalds</td><td>Cold</td><td>2</td></tr><tr><th>20</th><td>20</td><td>Emura</td><td>McDonalds</td><td>Cold</td><td>2</td></tr><tr><th>21</th><td>21</td><td>Akutsu</td><td>Lotteria</td><td>Cold</td><td>7</td></tr><tr><th>22</th><td>22</td><td>Beppu</td><td>Lotteria</td><td>Cold</td><td>6</td></tr><tr><th>23</th><td>23</td><td>Chiyoda</td><td>Lotteria</td><td>Cold</td><td>5</td></tr><tr><th>24</th><td>24</td><td>Degawa</td><td>Lotteria</td><td>Cold</td><td>4</td></tr><tr><th>25</th><td>25</td><td>Emura</td><td>Lotteria</td><td>Cold</td><td>3</td></tr><tr><th>26</th><td>26</td><td>Akutsu</td><td>Mos</td><td>Cold</td><td>12</td></tr><tr><th>27</th><td>27</td><td>Beppu</td><td>Mos</td><td>Cold</td><td>8</td></tr><tr><th>&vellip;</th><td>&vellip;</td><td>&vellip;</td><td>&vellip;</td><td>&vellip;</td><td>&vellip;</td></tr></tbody></table>"
      ],
      "text/latex": [
       "\\begin{tabular}{r|ccccc}\n",
       "\t& id & Person & Brand & Temperature & Taste\\\\\n",
       "\t\\hline\n",
       "\t& Int64 & String & String & String & Int64\\\\\n",
       "\t\\hline\n",
       "\t1 & 1 & Akutsu & McDonalds & Hot & 6 \\\\\n",
       "\t2 & 2 & Beppu & McDonalds & Hot & 4 \\\\\n",
       "\t3 & 3 & Chiyoda & McDonalds & Hot & 5 \\\\\n",
       "\t4 & 4 & Degawa & McDonalds & Hot & 3 \\\\\n",
       "\t5 & 5 & Emura & McDonalds & Hot & 2 \\\\\n",
       "\t6 & 6 & Akutsu & Lotteria & Hot & 10 \\\\\n",
       "\t7 & 7 & Beppu & Lotteria & Hot & 8 \\\\\n",
       "\t8 & 8 & Chiyoda & Lotteria & Hot & 10 \\\\\n",
       "\t9 & 9 & Degawa & Lotteria & Hot & 8 \\\\\n",
       "\t10 & 10 & Emura & Lotteria & Hot & 9 \\\\\n",
       "\t11 & 11 & Akutsu & Mos & Hot & 11 \\\\\n",
       "\t12 & 12 & Beppu & Mos & Hot & 12 \\\\\n",
       "\t13 & 13 & Chiyoda & Mos & Hot & 12 \\\\\n",
       "\t14 & 14 & Degawa & Mos & Hot & 10 \\\\\n",
       "\t15 & 15 & Emura & Mos & Hot & 10 \\\\\n",
       "\t16 & 16 & Akutsu & McDonalds & Cold & 5 \\\\\n",
       "\t17 & 17 & Beppu & McDonalds & Cold & 4 \\\\\n",
       "\t18 & 18 & Chiyoda & McDonalds & Cold & 2 \\\\\n",
       "\t19 & 19 & Degawa & McDonalds & Cold & 2 \\\\\n",
       "\t20 & 20 & Emura & McDonalds & Cold & 2 \\\\\n",
       "\t21 & 21 & Akutsu & Lotteria & Cold & 7 \\\\\n",
       "\t22 & 22 & Beppu & Lotteria & Cold & 6 \\\\\n",
       "\t23 & 23 & Chiyoda & Lotteria & Cold & 5 \\\\\n",
       "\t24 & 24 & Degawa & Lotteria & Cold & 4 \\\\\n",
       "\t25 & 25 & Emura & Lotteria & Cold & 3 \\\\\n",
       "\t26 & 26 & Akutsu & Mos & Cold & 12 \\\\\n",
       "\t27 & 27 & Beppu & Mos & Cold & 8 \\\\\n",
       "\t$\\dots$ & $\\dots$ & $\\dots$ & $\\dots$ & $\\dots$ & $\\dots$ \\\\\n",
       "\\end{tabular}\n"
      ],
      "text/plain": [
       "30×5 DataFrame\n",
       "│ Row │ id    │ Person  │ Brand     │ Temperature │ Taste │\n",
       "│     │ \u001b[90mInt64\u001b[39m │ \u001b[90mString\u001b[39m  │ \u001b[90mString\u001b[39m    │ \u001b[90mString\u001b[39m      │ \u001b[90mInt64\u001b[39m │\n",
       "├─────┼───────┼─────────┼───────────┼─────────────┼───────┤\n",
       "│ 1   │ 1     │ Akutsu  │ McDonalds │ Hot         │ 6     │\n",
       "│ 2   │ 2     │ Beppu   │ McDonalds │ Hot         │ 4     │\n",
       "│ 3   │ 3     │ Chiyoda │ McDonalds │ Hot         │ 5     │\n",
       "│ 4   │ 4     │ Degawa  │ McDonalds │ Hot         │ 3     │\n",
       "│ 5   │ 5     │ Emura   │ McDonalds │ Hot         │ 2     │\n",
       "│ 6   │ 6     │ Akutsu  │ Lotteria  │ Hot         │ 10    │\n",
       "│ 7   │ 7     │ Beppu   │ Lotteria  │ Hot         │ 8     │\n",
       "│ 8   │ 8     │ Chiyoda │ Lotteria  │ Hot         │ 10    │\n",
       "│ 9   │ 9     │ Degawa  │ Lotteria  │ Hot         │ 8     │\n",
       "⋮\n",
       "│ 21  │ 21    │ Akutsu  │ Lotteria  │ Cold        │ 7     │\n",
       "│ 22  │ 22    │ Beppu   │ Lotteria  │ Cold        │ 6     │\n",
       "│ 23  │ 23    │ Chiyoda │ Lotteria  │ Cold        │ 5     │\n",
       "│ 24  │ 24    │ Degawa  │ Lotteria  │ Cold        │ 4     │\n",
       "│ 25  │ 25    │ Emura   │ Lotteria  │ Cold        │ 3     │\n",
       "│ 26  │ 26    │ Akutsu  │ Mos       │ Cold        │ 12    │\n",
       "│ 27  │ 27    │ Beppu   │ Mos       │ Cold        │ 8     │\n",
       "│ 28  │ 28    │ Chiyoda │ Mos       │ Cold        │ 5     │\n",
       "│ 29  │ 29    │ Degawa  │ Mos       │ Cold        │ 6     │\n",
       "│ 30  │ 30    │ Emura   │ Mos       │ Cold        │ 4     │"
      ]
     },
     "execution_count": 3,
     "metadata": {},
     "output_type": "execute_result"
    }
   ],
   "source": [
    "filename = expanduser(\"anova3data.csv\");\n",
    "dat = CSV.read(filename)"
   ]
  },
  {
   "cell_type": "code",
   "execution_count": 4,
   "metadata": {
    "inputHidden": false,
    "outputHidden": false
   },
   "outputs": [
    {
     "name": "stdout",
     "output_type": "stream",
     "text": [
      "\n",
      "[ sAB-Type Design ]\n",
      "\n",
      "This output was generated by anovakun 4.8.4 under R version 3.6.2.\n",
      "It was executed on Tue Feb 25 12:03:40 2020.\n",
      "\n",
      " \n",
      "<< DESCRIPTIVE STATISTICS >>\n",
      "\n",
      "-----------------------------------------------\n",
      "     Brand  Temperature   n     Mean    S.D. \n",
      "-----------------------------------------------\n",
      " McDonalds          Hot   5   4.0000  1.5811 \n",
      " McDonalds         Cold   5   3.0000  1.4142 \n",
      "  Lotteria          Hot   5   9.0000  1.0000 \n",
      "  Lotteria         Cold   5   5.0000  1.5811 \n",
      "       Mos          Hot   5  11.0000  1.0000 \n",
      "       Mos         Cold   5   7.0000  3.1623 \n",
      "-----------------------------------------------\n",
      "\n",
      "\n",
      "<< SPHERICITY INDICES >>\n",
      "\n",
      "== Mendoza's Multisample Sphericity Test and Epsilons ==\n",
      "\n",
      "-------------------------------------------------------------------------------------\n",
      "             Effect  Lambda  approx.Chi  df      p         LB     GG     HF     CM \n",
      "-------------------------------------------------------------------------------------\n",
      "             Global  0.0000    155.6195  14 0.0000 *** 0.2000 0.3036 0.4505 0.2000 \n",
      "              Brand  0.0000    105.9361   2 0.0000 *** 0.5000 0.5000 0.5000 0.5000 \n",
      "        Temperature  1.0000     -0.0000   0            1.0000 1.0000 1.0000 1.0000 \n",
      "Brand x Temperature  0.4444      1.2164   2 0.5443 ns  0.5000 0.7500 1.1000 0.5000 \n",
      "-------------------------------------------------------------------------------------\n",
      "                                          LB = lower.bound, GG = Greenhouse-Geisser\n",
      "                                         HF = Huynh-Feldt-Lecoutre, CM = Chi-Muller\n",
      "\n",
      "\n",
      "<< ANOVA TABLE >>\n",
      "\n",
      "--------------------------------------------------------------------------\n",
      "                  Source        SS  df       MS   F-ratio  p-value      \n",
      "--------------------------------------------------------------------------\n",
      "                       s   45.0000   4  11.2500                         \n",
      "--------------------------------------------------------------------------\n",
      "                   Brand  155.0000   2  77.5000  155.0000   0.0000 ***  \n",
      "               s x Brand    4.0000   8   0.5000                         \n",
      "--------------------------------------------------------------------------\n",
      "             Temperature   67.5000   1  67.5000   18.0000   0.0132 *    \n",
      "         s x Temperature   15.0000   4   3.7500                         \n",
      "--------------------------------------------------------------------------\n",
      "     Brand x Temperature   15.0000   2   7.5000    5.0000   0.0390 *    \n",
      " s x Brand x Temperature   12.0000   8   1.5000                         \n",
      "--------------------------------------------------------------------------\n",
      "                   Total  313.5000  29  10.8103                         \n",
      "                              +p < .10, *p < .05, **p < .01, ***p < .001\n",
      "\n",
      "\n",
      "<< POST ANALYSES >>\n",
      "\n",
      "< MULTIPLE COMPARISON for \"Brand\" >\n",
      "\n",
      "== Shaffer's Modified Sequentially Rejective Bonferroni Procedure ==\n",
      "== The factor < Brand > is analysed as dependent means. == \n",
      "== Alpha level is 0.05. == \n",
      " \n",
      "---------------------------------\n",
      "     Brand   n    Mean    S.D. \n",
      "---------------------------------\n",
      " McDonalds  10  3.5000  1.5092 \n",
      "  Lotteria  10  7.0000  2.4495 \n",
      "       Mos  10  9.0000  3.0551 \n",
      "---------------------------------\n",
      "\n",
      "------------------------------------------------------------------------------------\n",
      "               Pair     Diff  t-value  df       p   adj.p                         \n",
      "------------------------------------------------------------------------------------\n",
      "      McDonalds-Mos  -5.5000  24.5967   4  0.0000  0.0000       McDonalds < Mos * \n",
      " McDonalds-Lotteria  -3.5000  15.6525   4  0.0001  0.0001  McDonalds < Lotteria * \n",
      "       Lotteria-Mos  -2.0000   4.4721   4  0.0111  0.0111        Lotteria < Mos * \n",
      "------------------------------------------------------------------------------------\n",
      "\n",
      "\n",
      "< SIMPLE EFFECTS for \"Brand x Temperature\" INTERACTION >\n",
      "\n",
      "-------------------------------------------------------------------------------------------\n",
      "                   Effect  Lambda  approx.Chi  df      p         LB     GG     HF     CM \n",
      "-------------------------------------------------------------------------------------------\n",
      "             Brand at Hot  1.0000      0.0000   2 1.0000 ns  0.5000 1.0000 2.0000 0.8642 \n",
      "            Brand at Cold  0.1296      3.0650   2 0.2160 ns  0.5000 0.6098 0.7368 0.5000 \n",
      " Temperature at McDonalds  1.0000     -0.0000   0            1.0000 1.0000 1.0000 1.0000 \n",
      "  Temperature at Lotteria  1.0000     -0.0000   0            1.0000 1.0000 1.0000 1.0000 \n",
      "       Temperature at Mos  1.0000     -0.0000   0            1.0000 1.0000 1.0000 1.0000 \n",
      "-------------------------------------------------------------------------------------------\n",
      "                                                LB = lower.bound, GG = Greenhouse-Geisser\n",
      "                                               HF = Huynh-Feldt-Lecoutre, CM = Chi-Muller\n",
      "\n",
      "------------------------------------------------------------------------------\n",
      "                       Source        SS  df       MS  F-ratio  p-value      \n",
      "------------------------------------------------------------------------------\n",
      "                 Brand at Hot  130.0000   2  65.0000  86.6667   0.0000 ***  \n",
      "             s x Brand at Hot    6.0000   8   0.7500                        \n",
      "------------------------------------------------------------------------------\n",
      "                Brand at Cold   40.0000   2  20.0000  16.0000   0.0016 **   \n",
      "            s x Brand at Cold   10.0000   8   1.2500                        \n",
      "------------------------------------------------------------------------------\n",
      "     Temperature at McDonalds    2.5000   1   2.5000   3.3333   0.1419 ns   \n",
      " s x Temperature at McDonalds    3.0000   4   0.7500                        \n",
      "------------------------------------------------------------------------------\n",
      "      Temperature at Lotteria   40.0000   1  40.0000  32.0000   0.0048 **   \n",
      "  s x Temperature at Lotteria    5.0000   4   1.2500                        \n",
      "------------------------------------------------------------------------------\n",
      "           Temperature at Mos   40.0000   1  40.0000   8.4211   0.0440 *    \n",
      "       s x Temperature at Mos   19.0000   4   4.7500                        \n",
      "------------------------------------------------------------------------------\n",
      "                                  +p < .10, *p < .05, **p < .01, ***p < .001\n",
      "\n",
      "\n",
      "< MULTIPLE COMPARISON for \"Brand at Hot\" >\n",
      "\n",
      "== Shaffer's Modified Sequentially Rejective Bonferroni Procedure ==\n",
      "== The factor < Brand at Hot > is analysed as dependent means. == \n",
      "== Alpha level is 0.05. == \n",
      " \n",
      "------------------------------------------------------------------------------------\n",
      "               Pair     Diff  t-value  df       p   adj.p                         \n",
      "------------------------------------------------------------------------------------\n",
      "      McDonalds-Mos  -7.0000  12.7802   4  0.0002  0.0006       McDonalds < Mos * \n",
      " McDonalds-Lotteria  -5.0000   9.1287   4  0.0008  0.0008  McDonalds < Lotteria * \n",
      "       Lotteria-Mos  -2.0000   3.6515   4  0.0217  0.0217        Lotteria < Mos * \n",
      "------------------------------------------------------------------------------------\n",
      "\n",
      "\n",
      "< MULTIPLE COMPARISON for \"Brand at Cold\" >\n",
      "\n",
      "== Shaffer's Modified Sequentially Rejective Bonferroni Procedure ==\n",
      "== The factor < Brand at Cold > is analysed as dependent means. == \n",
      "== Alpha level is 0.05. == \n",
      " \n",
      "------------------------------------------------------------------------------------\n",
      "               Pair     Diff  t-value  df       p   adj.p                         \n",
      "------------------------------------------------------------------------------------\n",
      " McDonalds-Lotteria  -2.0000   6.3246   4  0.0032  0.0096  McDonalds < Lotteria * \n",
      "      McDonalds-Mos  -4.0000   4.7809   4  0.0088  0.0096       McDonalds < Mos * \n",
      "       Lotteria-Mos  -2.0000   2.3905   4  0.0751  0.0751        Lotteria = Mos   \n",
      "------------------------------------------------------------------------------------\n",
      "\n",
      "output is over --------------------///\n",
      "\n"
     ]
    },
    {
     "data": {
      "text/plain": [
       "RObject{NilSxp}\n",
       "NULL\n"
      ]
     },
     "execution_count": 4,
     "metadata": {},
     "output_type": "execute_result"
    }
   ],
   "source": [
    "R\"anovakun($(dat[:, 2:end]), \\\"sAB\\\", 3, 2, long=T)\""
   ]
  }
 ],
 "metadata": {
  "@webio": {
   "lastCommId": null,
   "lastKernelId": null
  },
  "kernel_info": {
   "name": "julia-1.1"
  },
  "kernelspec": {
   "display_name": "Julia 1.5.3",
   "language": "julia",
   "name": "julia-1.5"
  },
  "language_info": {
   "file_extension": ".jl",
   "mimetype": "application/julia",
   "name": "julia",
   "version": "1.5.3"
  },
  "nteract": {
   "version": "0.13.0"
  }
 },
 "nbformat": 4,
 "nbformat_minor": 4
}
